{
 "cells": [
  {
   "cell_type": "code",
   "execution_count": 2,
   "id": "b116c8b3-e927-401b-aed8-994fe5279b54",
   "metadata": {},
   "outputs": [],
   "source": [
    "from __future__ import annotations\n",
    "\n",
    "from emmet.core.tasks import TaskDoc\n",
    "from monty.serialization import loadfn\n",
    "import os\n",
    "\n",
    "from pymatgen.io.validation import ValidationDoc\n",
    "from pymatgen.io.validation.check_potcar import CheckPotcar\n",
    "\n",
    "from pymatgen.io.vasp import PotcarSingle, Potcar"
   ]
  },
  {
   "cell_type": "code",
   "execution_count": 3,
   "id": "80064515-1e98-43da-b075-5a4c41ede437",
   "metadata": {},
   "outputs": [],
   "source": [
    "\"\"\"\n",
    "For copyright reasons, the POTCAR for these calculations cannot be distributed with this file, but its summary stats can.\n",
    "If you have the POTCAR resources set up in pymatgen, you can regenerate the POTCARs used here by enabling `regen_potcars`\n",
    "\"\"\"\n",
    "\n",
    "regen_potcars = True\n",
    "\n",
    "def get_potcar_from_spec(potcar_spec : dict) -> Potcar | None:\n",
    "    potcar_checker = CheckPotcar()\n",
    "    \n",
    "    for functional in PotcarSingle._potcar_summary_stats:\n",
    "\n",
    "        potcar = Potcar()\n",
    "        matched = [False for _ in range(len(potcar_spec))]\n",
    "        for ispec, spec in enumerate(potcar_spec):\n",
    "            titel = spec.get(\"titel\",\"\")\n",
    "            titel_no_spc = titel.replace(\" \",\"\")\n",
    "            symbol = titel.split(\" \")[1].strip()\n",
    "                \n",
    "            for stats in PotcarSingle._potcar_summary_stats[functional].get(titel_no_spc,[]):\n",
    "                \n",
    "                if potcar_checker.compare_potcar_stats(spec[\"summary_stats\"], stats):\n",
    "                    potcar.append(PotcarSingle.from_symbol_and_functional(symbol=symbol, functional=functional))\n",
    "                    matched[ispec] = True\n",
    "                    break\n",
    "                    \n",
    "            if all(matched):\n",
    "                return potcar\n",
    "    \n",
    "def check_calc(calc_dir : str) -> ValidationDoc:\n",
    "    potcar_filename = None\n",
    "    if regen_potcars:\n",
    "        potcar = get_potcar_from_spec(loadfn(os.path.join(calc_dir,\"POTCAR.spec.gz\")))\n",
    "        if potcar:\n",
    "            potcar_filename = os.path.join(calc_dir,\"POTCAR.gz\")\n",
    "            potcar.write_file(potcar_filename)\n",
    "    \n",
    "    valid_doc = ValidationDoc.from_directory(calc_dir, check_potcar=(regen_potcars and potcar))\n",
    "    \n",
    "    if potcar_filename and potcar:\n",
    "        os.remove(potcar_filename)\n",
    "        \n",
    "    return valid_doc\n",
    "    "
   ]
  },
  {
   "cell_type": "code",
   "execution_count": 4,
   "id": "0f660f54-ca8a-466c-b382-2f0fac46d8bf",
   "metadata": {},
   "outputs": [
    {
     "name": "stdout",
     "output_type": "stream",
     "text": [
      "True\n"
     ]
    }
   ],
   "source": [
    "\"\"\"\n",
    "An example of an MP-compatible r2SCAN static calculation for GaAs is located in the `MP_compliant` directory.\n",
    "\"\"\"\n",
    "mp_compliant_doc = check_calc(\"MP_compliant\")\n",
    "print(mp_compliant_doc.valid)"
   ]
  },
  {
   "cell_type": "code",
   "execution_count": 5,
   "id": "25b85de2",
   "metadata": {},
   "outputs": [
    {
     "name": "stdout",
     "output_type": "stream",
     "text": [
      "True\n"
     ]
    }
   ],
   "source": [
    "\"\"\"\n",
    "TaskDocs for these calculations (generated with atomate2) are also saved in these directories.\n",
    "You can load in the TaskDocs like so:\n",
    "\"\"\"\n",
    "compliant_task_doc = TaskDoc(\n",
    "    **loadfn(os.path.join(\"MP_compliant\",\"MP_compatible_GaAs_r2SCAN_static.json.gz\"))\n",
    ")\n",
    "mp_compliant_doc = ValidationDoc.from_task_doc(compliant_task_doc)\n",
    "print(mp_compliant_doc.valid)"
   ]
  },
  {
   "cell_type": "code",
   "execution_count": 7,
   "id": "c919fedd-38ef-4cf7-a2ed-54544eec8d82",
   "metadata": {},
   "outputs": [
    {
     "name": "stdout",
     "output_type": "stream",
     "text": [
      "False\n",
      "INPUT SETTINGS --> KPOINTS or KSPACING: 64 kpoints were used, but it should have been at least 194.\n",
      "INPUT SETTINGS --> ENAUG: is 900.0, but should be >= 1360. \n",
      "INPUT SETTINGS --> ENCUT: is 450.0, but should be >= 680. \n",
      "False\n",
      "True\n"
     ]
    }
   ],
   "source": [
    "\"\"\"\n",
    "An example of an MP incompatible r2SCAN static calculation for GaAs is located in the `MP_non_compliant` directory.\n",
    "\n",
    "This calculation uses a lower ENCUT, ENAUG, and k-point density (larger KSPACING) than is permitted by the appropriate input set, `pymatgen.io.vasp.sets.MPScanStaticSet`.\n",
    "These reasons are reflected transparently in the output reasons.\n",
    "\"\"\"\n",
    "mp_non_compliant_doc = check_calc(\"MP_non_compliant\")\n",
    "print(mp_non_compliant_doc.valid)\n",
    "for reason in mp_non_compliant_doc.reasons:\n",
    "    print(reason)\n",
    "\n",
    "non_compliant_task_doc = TaskDoc(\n",
    "    **loadfn(os.path.join(\"MP_non_compliant\",\"MP_incompatible_GaAs_r2SCAN_static.json.gz\"))\n",
    ")\n",
    "mp_non_compliant_doc_from_taskdoc = ValidationDoc.from_task_doc(non_compliant_task_doc)\n",
    "print(mp_non_compliant_doc_from_taskdoc.valid)\n",
    "print(mp_non_compliant_doc_from_taskdoc.reasons == mp_non_compliant_doc_from_taskdoc.reasons)"
   ]
  },
  {
   "cell_type": "code",
   "execution_count": null,
   "id": "128e49d1",
   "metadata": {},
   "outputs": [],
   "source": []
  }
 ],
 "metadata": {
  "kernelspec": {
   "display_name": "Python 3 (ipykernel)",
   "language": "python",
   "name": "python3"
  },
  "language_info": {
   "codemirror_mode": {
    "name": "ipython",
    "version": 3
   },
   "file_extension": ".py",
   "mimetype": "text/x-python",
   "name": "python",
   "nbconvert_exporter": "python",
   "pygments_lexer": "ipython3",
   "version": "3.11.0"
  }
 },
 "nbformat": 4,
 "nbformat_minor": 5
}
