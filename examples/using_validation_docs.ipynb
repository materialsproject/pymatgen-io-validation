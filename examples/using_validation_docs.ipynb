{
 "cells": [
  {
   "cell_type": "code",
   "execution_count": null,
   "id": "0",
   "metadata": {},
   "outputs": [],
   "source": [
    "from __future__ import annotations\n",
    "\n",
    "from monty.os.path import zpath\n",
    "from monty.serialization import loadfn\n",
    "import os\n",
    "from pathlib import Path\n",
    "\n",
    "from pymatgen.io.validation.validation import VaspValidator\n",
    "\n",
    "from pymatgen.io.vasp import PotcarSingle, Potcar"
   ]
  },
  {
   "cell_type": "markdown",
   "id": "1",
   "metadata": {},
   "source": [
    "For copyright reasons, the POTCAR for these calculations cannot be distributed with this file, but its summary stats can.\n",
    "\n",
    "If you have the POTCAR resources set up in pymatgen, you can regenerate the POTCARs used here by enabling `regen_potcars`"
   ]
  },
  {
   "cell_type": "code",
   "execution_count": null,
   "id": "2",
   "metadata": {},
   "outputs": [],
   "source": [
    "regen_potcars = True\n",
    "\n",
    "def get_potcar_from_spec(potcar_spec : dict) -> Potcar | None:\n",
    "    \n",
    "    for functional in PotcarSingle._potcar_summary_stats:\n",
    "\n",
    "        potcar = Potcar()\n",
    "        matched = [False for _ in range(len(potcar_spec))]\n",
    "        for ispec, spec in enumerate(potcar_spec):\n",
    "            titel = spec.get(\"titel\",\"\")\n",
    "            titel_no_spc = titel.replace(\" \",\"\")\n",
    "            symbol = titel.split(\" \")[1].strip()\n",
    "                \n",
    "            for stats in PotcarSingle._potcar_summary_stats[functional].get(titel_no_spc,[]):\n",
    "                \n",
    "                if PotcarSingle.compare_potcar_stats(spec[\"summary_stats\"], stats):\n",
    "                    potcar.append(PotcarSingle.from_symbol_and_functional(symbol=symbol, functional=functional))\n",
    "                    matched[ispec] = True\n",
    "                    break\n",
    "                    \n",
    "            if all(matched):\n",
    "                return potcar\n",
    "    \n",
    "def check_calc(calc_dir : str | Path) -> VaspValidator:\n",
    "\n",
    "    calc_dir = Path(calc_dir)\n",
    "    potcar_filename = None\n",
    "    if regen_potcars:\n",
    "        potcar = get_potcar_from_spec(loadfn(calc_dir / \"POTCAR.spec.gz\"))\n",
    "        if potcar:\n",
    "            potcar_filename = calc_dir / \"POTCAR.gz\"\n",
    "            potcar.write_file(potcar_filename)\n",
    "    \n",
    "    vasp_files = {\n",
    "        k.lower().split(\".\")[0] : zpath(calc_dir / k) for k in (\n",
    "            \"INCAR\",\"KPOINTS\",\"POSCAR\",\"POTCAR\",\"OUTCAR\", \"vasprun.xml\"\n",
    "        )\n",
    "    }\n",
    "    \n",
    "    valid_doc = VaspValidator.from_vasp_input(\n",
    "        vasp_file_paths={\n",
    "            k : v for k,v in vasp_files.items() if Path(v).exists()\n",
    "        },\n",
    "        check_potcar=(regen_potcars and potcar)\n",
    "    )\n",
    "\n",
    "    if potcar_filename and potcar:\n",
    "        os.remove(potcar_filename)\n",
    "        \n",
    "    return valid_doc\n",
    "    "
   ]
  },
  {
   "cell_type": "markdown",
   "id": "3",
   "metadata": {},
   "source": [
    "An example of an MP-compatible r2SCAN static calculation for GaAs is located in the `MP_compliant` directory."
   ]
  },
  {
   "cell_type": "code",
   "execution_count": null,
   "id": "4",
   "metadata": {},
   "outputs": [],
   "source": [
    "mp_compliant_doc = check_calc(\"MP_compliant\")\n",
    "print(mp_compliant_doc.is_valid)"
   ]
  },
  {
   "cell_type": "markdown",
   "id": "5",
   "metadata": {},
   "source": [
    "We also include `TaskDoc` objects generated with `atomate2`, the workflow software currently used by the Materials Project (MP) for high-throughput calculations. A `TaskDoc` is also the document schema for the MP `task` collection.\n",
    "\n",
    "If you have `emmet-core` (this is the software used to build Materials Project data) or `atomate2` installed, you can load a `TaskDoc` like this:"
   ]
  },
  {
   "cell_type": "code",
   "execution_count": null,
   "id": "6",
   "metadata": {},
   "outputs": [],
   "source": [
    "from emmet.core.tasks import TaskDoc\n",
    "from pymatgen.io.validation.emmet_validation import ValidationDoc\n",
    "\n",
    "compliant_task_doc = TaskDoc(\n",
    "    **loadfn(os.path.join(\"MP_compliant\",\"MP_compatible_GaAs_r2SCAN_static.json.gz\"))\n",
    ")\n",
    "mp_compliant_doc = ValidationDoc.from_task_doc(compliant_task_doc)\n",
    "print(mp_compliant_doc.valid)"
   ]
  },
  {
   "cell_type": "markdown",
   "id": "7",
   "metadata": {},
   "source": [
    "An example of an MP incompatible r<sup>2</sup>SCAN static calculation for GaAs is located in the `MP_non_compliant` directory.\n",
    "\n",
    "This calculation uses a lower ENCUT, ENAUG, and k-point density (larger KSPACING) than is permitted by the appropriate input set, `pymatgen.io.vasp.sets.MPScanStaticSet`.\n",
    "These reasons are reflected transparently in the output reasons."
   ]
  },
  {
   "cell_type": "code",
   "execution_count": null,
   "id": "8",
   "metadata": {},
   "outputs": [],
   "source": [
    "mp_non_compliant_doc = check_calc(\"MP_non_compliant\")\n",
    "print(mp_non_compliant_doc.is_valid)\n",
    "for reason in mp_non_compliant_doc.reasons:\n",
    "    print(reason)"
   ]
  }
 ],
 "metadata": {
  "language_info": {
   "codemirror_mode": {
    "name": "ipython",
    "version": 3
   },
   "file_extension": ".py",
   "mimetype": "text/x-python",
   "name": "python",
   "nbconvert_exporter": "python",
   "pygments_lexer": "ipython3",
   "version": "3.11.0"
  }
 },
 "nbformat": 4,
 "nbformat_minor": 5
}
